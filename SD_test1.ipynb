{
 "cells": [
  {
   "cell_type": "code",
   "execution_count": 1,
   "id": "dd8d4cec-c747-49d0-8208-048a61c47018",
   "metadata": {},
   "outputs": [
    {
     "name": "stderr",
     "output_type": "stream",
     "text": [
      "C:\\Users\\soham\\anaconda3\\envs\\diffuser\\Lib\\site-packages\\tqdm\\auto.py:21: TqdmWarning: IProgress not found. Please update jupyter and ipywidgets. See https://ipywidgets.readthedocs.io/en/stable/user_install.html\n",
      "  from .autonotebook import tqdm as notebook_tqdm\n"
     ]
    }
   ],
   "source": [
    "# Cell 1: Imports\n",
    "import argparse\n",
    "from PIL import Image\n",
    "import cv2\n",
    "import numpy as np\n",
    "from diffusers import StableDiffusionPipeline\n",
    "import torch"
   ]
  },
  {
   "cell_type": "code",
   "execution_count": 2,
   "id": "28b1651d-dcb8-416b-b3e6-4507d6b2ca6a",
   "metadata": {},
   "outputs": [],
   "source": [
    "# Cell 2: Function definitions\n",
    "def segment_image(image_path):\n",
    "    # Load the image\n",
    "    img = cv2.imread(image_path)\n",
    "    \n",
    "    # Convert to HSV color space\n",
    "    hsv = cv2.cvtColor(img, cv2.COLOR_BGR2HSV)\n",
    "    \n",
    "    # Define range of white color in HSV\n",
    "    lower_white = np.array([0, 0, 200])\n",
    "    upper_white = np.array([255, 55, 255])\n",
    "    \n",
    "    # Threshold the HSV image to get only white colors\n",
    "    mask = cv2.inRange(hsv, lower_white, upper_white)\n",
    "    \n",
    "    # Apply morphological operations to refine the mask\n",
    "    kernel = np.ones((5, 5), np.uint8)\n",
    "    mask = cv2.erode(mask, kernel, iterations=1)\n",
    "    mask = cv2.dilate(mask, kernel, iterations=1)\n",
    "    \n",
    "    # Create a new image with the segmented object\n",
    "    result = cv2.bitwise_and(img, img, mask=cv2.bitwise_not(mask))\n",
    "    \n",
    "    return result, cv2.bitwise_not(mask)\n",
    "\n",
    "\n",
    "def generate_scene(text_prompt):\n",
    "    # Initialize Stable Diffusion pipeline\n",
    "    model_id = \"CompVis/stable-diffusion-v1-4\"\n",
    "    \n",
    "    # Move the model to GPU if available\n",
    "    device = torch.device(\"cuda\" if torch.cuda.is_available() else \"cpu\")\n",
    "    pipe = StableDiffusionPipeline.from_pretrained(model_id, torch_dtype=torch.float16).to(device)\n",
    "    \n",
    "    # Generate image\n",
    "    image = pipe(text_prompt).images[0]\n",
    "    \n",
    "    return image\n",
    "\n",
    "def compose_final_image(segmented_object, scene, mask):\n",
    "    # Resize the scene to match the object size\n",
    "    scene = scene.resize((segmented_object.width, segmented_object.height))\n",
    "    \n",
    "    # Paste the object onto the scene\n",
    "    final_image = scene.copy()\n",
    "    final_image.paste(segmented_object, (0, 0), mask=mask)\n",
    "    \n",
    "    return final_image"
   ]
  },
  {
   "cell_type": "code",
   "execution_count": 3,
   "id": "2d134c97-9b75-4f3b-af01-99dbffb6f409",
   "metadata": {},
   "outputs": [
    {
     "name": "stdout",
     "output_type": "stream",
     "text": [
      "CUDA available: True\n",
      "Number of GPUs: 1\n",
      "Current GPU: 0\n",
      "GPU name: NVIDIA GeForce RTX 3060 Laptop GPU\n"
     ]
    }
   ],
   "source": [
    "print(f\"CUDA available: {torch.cuda.is_available()}\")\n",
    "print(f\"Number of GPUs: {torch.cuda.device_count()}\")\n",
    "print(f\"Current GPU: {torch.cuda.current_device()}\")\n",
    "print(f\"GPU name: {torch.cuda.get_device_name(0)}\")"
   ]
  },
  {
   "cell_type": "code",
   "execution_count": 5,
   "id": "14fa4ca5-a540-4280-b682-522445bf2ce4",
   "metadata": {
    "scrolled": true
   },
   "outputs": [
    {
     "name": "stderr",
     "output_type": "stream",
     "text": [
      "Cannot initialize model with low cpu memory usage because `accelerate` was not found in the environment. Defaulting to `low_cpu_mem_usage=False`. It is strongly recommended to install `accelerate` for faster and less memory-intense model loading. You can do so with: \n",
      "```\n",
      "pip install accelerate\n",
      "```\n",
      ".\n",
      "Loading pipeline components...: 100%|██████████| 7/7 [00:11<00:00,  1.61s/it]\n",
      "100%|██████████| 50/50 [00:09<00:00,  5.16it/s]\n"
     ]
    },
    {
     "name": "stdout",
     "output_type": "stream",
     "text": [
      "Generated image saved to ./generated.png\n"
     ]
    }
   ],
   "source": [
    "# Cell 3: Main logic\n",
    "image_path = \"./example1.jpg\"\n",
    "text_prompt = \"“Product in a kitchen used in meal preparation\"\n",
    "output_path = \"./generated.png\"\n",
    "\n",
    "# Segment the object from the input image\n",
    "segmented_object, mask = segment_image(image_path)\n",
    "\n",
    "# Generate the scene based on the text prompt\n",
    "scene = generate_scene(text_prompt)\n",
    "\n",
    "# Compose the final image\n",
    "final_image = compose_final_image(Image.fromarray(segmented_object), scene, Image.fromarray(mask))\n",
    "\n",
    "# Save the output\n",
    "final_image.save(output_path)\n",
    "\n",
    "print(f\"Generated image saved to {output_path}\")"
   ]
  },
  {
   "cell_type": "code",
   "execution_count": null,
   "id": "a5c1d436-8332-41cf-b823-95305d60793f",
   "metadata": {},
   "outputs": [],
   "source": []
  }
 ],
 "metadata": {
  "kernelspec": {
   "display_name": "Python 3 (ipykernel)",
   "language": "python",
   "name": "python3"
  },
  "language_info": {
   "codemirror_mode": {
    "name": "ipython",
    "version": 3
   },
   "file_extension": ".py",
   "mimetype": "text/x-python",
   "name": "python",
   "nbconvert_exporter": "python",
   "pygments_lexer": "ipython3",
   "version": "3.12.5"
  }
 },
 "nbformat": 4,
 "nbformat_minor": 5
}
